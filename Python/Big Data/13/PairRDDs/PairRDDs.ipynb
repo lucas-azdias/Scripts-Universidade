{
  "nbformat": 4,
  "nbformat_minor": 0,
  "metadata": {
    "colab": {
      "provenance": [],
      "authorship_tag": "ABX9TyM4oGgI2C885OZvJSu5yA6q",
      "include_colab_link": true
    },
    "kernelspec": {
      "name": "python3",
      "display_name": "Python 3"
    },
    "language_info": {
      "name": "python"
    }
  },
  "cells": [
    {
      "cell_type": "markdown",
      "metadata": {
        "id": "view-in-github",
        "colab_type": "text"
      },
      "source": [
        "<a href=\"https://colab.research.google.com/github/lucas-azdias/Scripts-Universidade/blob/main/Python/Big%20Data/13/PairRDDs/PairRDDs.ipynb\" target=\"_parent\"><img src=\"https://colab.research.google.com/assets/colab-badge.svg\" alt=\"Open In Colab\"/></a>"
      ]
    },
    {
      "cell_type": "code",
      "source": [
        "#Instalando PySpark\n",
        "!pip install PySpark"
      ],
      "metadata": {
        "colab": {
          "base_uri": "https://localhost:8080/"
        },
        "id": "iELamzEurwgJ",
        "outputId": "0fe92398-a4e5-4f66-b4ad-4a866fdb27cc"
      },
      "execution_count": 1,
      "outputs": [
        {
          "output_type": "stream",
          "name": "stdout",
          "text": [
            "Collecting PySpark\n",
            "  Downloading pyspark-3.5.0.tar.gz (316.9 MB)\n",
            "\u001b[2K     \u001b[90m━━━━━━━━━━━━━━━━━━━━━━━━━━━━━━━━━━━━━━━━\u001b[0m \u001b[32m316.9/316.9 MB\u001b[0m \u001b[31m3.5 MB/s\u001b[0m eta \u001b[36m0:00:00\u001b[0m\n",
            "\u001b[?25h  Preparing metadata (setup.py) ... \u001b[?25l\u001b[?25hdone\n",
            "Requirement already satisfied: py4j==0.10.9.7 in /usr/local/lib/python3.10/dist-packages (from PySpark) (0.10.9.7)\n",
            "Building wheels for collected packages: PySpark\n",
            "  Building wheel for PySpark (setup.py) ... \u001b[?25l\u001b[?25hdone\n",
            "  Created wheel for PySpark: filename=pyspark-3.5.0-py2.py3-none-any.whl size=317425344 sha256=f19a66d1d7ee6268079471beec7fc38c5e7749cd2b436eaf50d1d0f471d6d0af\n",
            "  Stored in directory: /root/.cache/pip/wheels/41/4e/10/c2cf2467f71c678cfc8a6b9ac9241e5e44a01940da8fbb17fc\n",
            "Successfully built PySpark\n",
            "Installing collected packages: PySpark\n",
            "Successfully installed PySpark-3.5.0\n"
          ]
        }
      ]
    },
    {
      "cell_type": "code",
      "source": [
        "# Importando as bibliotecas\n",
        "import pyspark  # Biblioteca principal\n",
        "from pyspark.sql import SparkSession  # Biblioteca para a criação de uma sessão Spark"
      ],
      "metadata": {
        "id": "UpW_8Huerw_f"
      },
      "execution_count": 2,
      "outputs": []
    },
    {
      "cell_type": "code",
      "source": [
        "# Criação de uma sessão Spark\n",
        "spark = SparkSession.builder.appName(\"Airports\").master('local[*]').getOrCreate()"
      ],
      "metadata": {
        "id": "m2ohnbKHr1O9"
      },
      "execution_count": 3,
      "outputs": []
    },
    {
      "cell_type": "code",
      "source": [
        "# Criação do SparkContext (conexão entre o Driver e Workers)\n",
        "sc = spark.sparkContext"
      ],
      "metadata": {
        "id": "XeB1TPvFr1mZ"
      },
      "execution_count": 4,
      "outputs": []
    },
    {
      "cell_type": "code",
      "source": [
        "rdd_airports = sc.textFile(\"Airports.csv\")\n",
        "rdd_realestate = sc.textFile(\"RealEstate.csv\")"
      ],
      "metadata": {
        "id": "Z6bYqaNd7Bw3"
      },
      "execution_count": 35,
      "outputs": []
    },
    {
      "cell_type": "markdown",
      "source": [
        "# PairRDDs 1"
      ],
      "metadata": {
        "id": "tHbZs_fb6qMZ"
      }
    },
    {
      "cell_type": "code",
      "source": [
        "# PairRDDs 1\n",
        "rdd_airports_no_header = rdd_airports.filter(lambda x: not \"name\" in x) # Filtra header\n",
        "rdd_pair_airport_city_country = rdd_airports_no_header.map(lambda x: (x.split(\",\")[2], (x.split(\",\")[3], x.split(\",\")[4])))"
      ],
      "metadata": {
        "colab": {
          "base_uri": "https://localhost:8080/"
        },
        "id": "gwbRNXIO0v42",
        "outputId": "facd4308-6617-43ff-c875-31c27ad0db75"
      },
      "execution_count": 7,
      "outputs": [
        {
          "output_type": "execute_result",
          "data": {
            "text/plain": [
              "[('GOROKA', ('GOROKA', 'PAPUA NEW GUINEA')),\n",
              " ('N/A', ('LAE', 'PAPUA NEW GUINEA')),\n",
              " ('MADANG', ('MADANG', 'PAPUA NEW GUINEA')),\n",
              " ('MOUNT HAGEN', ('MOUNT HAGEN', 'PAPUA NEW GUINEA')),\n",
              " ('NADZAB', ('NADZAB', 'PAPUA NEW GUINEA'))]"
            ]
          },
          "metadata": {},
          "execution_count": 7
        }
      ]
    },
    {
      "cell_type": "code",
      "source": [
        "# Aeroportos em Paris\n",
        "rdd_pair_paris = rdd_pair_airport_city_country.filter(lambda x: x[1][0].upper() == \"PARIS\")\n",
        "rdd_pair_paris.take(5)"
      ],
      "metadata": {
        "colab": {
          "base_uri": "https://localhost:8080/"
        },
        "id": "-V9J4LyN5Tqf",
        "outputId": "773319f8-bc06-4f99-b93c-0d599a421314"
      },
      "execution_count": 9,
      "outputs": [
        {
          "output_type": "execute_result",
          "data": {
            "text/plain": [
              "[('LE BOURGET', ('PARIS', 'FRANCE')),\n",
              " ('CHARLES DE GAULLE', ('PARIS', 'FRANCE')),\n",
              " ('N/A', ('PARIS', 'FRANCE')),\n",
              " ('ORLY', ('PARIS', 'FRANCE'))]"
            ]
          },
          "metadata": {},
          "execution_count": 9
        }
      ]
    },
    {
      "cell_type": "code",
      "source": [
        "# Aeroportos em Paris capitalizado\n",
        "rdd_pair_paris_cap = rdd_pair_paris.mapValues(lambda x: (x[0].capitalize(), x[1].capitalize()))\n",
        "rdd_pair_paris_cap.take(5)"
      ],
      "metadata": {
        "colab": {
          "base_uri": "https://localhost:8080/"
        },
        "id": "tuSs3JUC5sRV",
        "outputId": "b620aec3-eb4d-488b-a9f5-763a6c559423"
      },
      "execution_count": 11,
      "outputs": [
        {
          "output_type": "execute_result",
          "data": {
            "text/plain": [
              "[('LE BOURGET', ('Paris', 'France')),\n",
              " ('CHARLES DE GAULLE', ('Paris', 'France')),\n",
              " ('N/A', ('Paris', 'France')),\n",
              " ('ORLY', ('Paris', 'France'))]"
            ]
          },
          "metadata": {},
          "execution_count": 11
        }
      ]
    },
    {
      "cell_type": "code",
      "source": [
        "# Aeroportos em Paris capitalizado ordenado pela chave\n",
        "rdd_pair_paris_sort = rdd_pair_paris_cap.sortByKey(ascending=True)\n",
        "rdd_pair_paris_sort.take(5)"
      ],
      "metadata": {
        "colab": {
          "base_uri": "https://localhost:8080/"
        },
        "id": "nScOAOVm6Lpp",
        "outputId": "590b8266-0d61-4283-d8f6-a21eecad567a"
      },
      "execution_count": 12,
      "outputs": [
        {
          "output_type": "execute_result",
          "data": {
            "text/plain": [
              "[('CHARLES DE GAULLE', ('Paris', 'France')),\n",
              " ('LE BOURGET', ('Paris', 'France')),\n",
              " ('N/A', ('Paris', 'France')),\n",
              " ('ORLY', ('Paris', 'France'))]"
            ]
          },
          "metadata": {},
          "execution_count": 12
        }
      ]
    },
    {
      "cell_type": "code",
      "source": [
        "rdd_pair_paris_sort.saveAsTextFile(\"rdd_pair_paris_sort.txt\")"
      ],
      "metadata": {
        "id": "Wi7sORbO6e7y"
      },
      "execution_count": 13,
      "outputs": []
    },
    {
      "cell_type": "markdown",
      "source": [
        "# PairRDDs 2"
      ],
      "metadata": {
        "id": "p6ak6JWN6sjk"
      }
    },
    {
      "cell_type": "code",
      "source": [
        "# PairRDDs 2\n",
        "rdd_airports_no_header = rdd_airports.filter(lambda x: not \"name\" in x) # Filtra header\n",
        "rdd_airports_pair = rdd_airports_no_header.map(lambda x: (x.split(\",\")[2], (x.split(\",\")[3], int(x.split(\",\")[13]))))\n",
        "rdd_airports_pair.take(5)"
      ],
      "metadata": {
        "colab": {
          "base_uri": "https://localhost:8080/"
        },
        "id": "66UGaoXp6pRH",
        "outputId": "3da10012-04db-41dc-d7ca-d2da65b6cbdb"
      },
      "execution_count": 16,
      "outputs": [
        {
          "output_type": "execute_result",
          "data": {
            "text/plain": [
              "[('GOROKA', ('GOROKA', 1610)),\n",
              " ('N/A', ('LAE', 0)),\n",
              " ('MADANG', ('MADANG', 7)),\n",
              " ('MOUNT HAGEN', ('MOUNT HAGEN', 1643)),\n",
              " ('NADZAB', ('NADZAB', 73))]"
            ]
          },
          "metadata": {},
          "execution_count": 16
        }
      ]
    },
    {
      "cell_type": "code",
      "source": [
        "rdd_airports_filtered = rdd_airports_pair.filter(lambda x: x[1][0].upper() == \"PARIS\" and x[1][1] > 80)\n",
        "rdd_airports_filtered.take(5)"
      ],
      "metadata": {
        "colab": {
          "base_uri": "https://localhost:8080/"
        },
        "id": "8rjhFFWr70CY",
        "outputId": "5eb82fdb-b1f0-4e21-9694-af5120e0236e"
      },
      "execution_count": 17,
      "outputs": [
        {
          "output_type": "execute_result",
          "data": {
            "text/plain": [
              "[('CHARLES DE GAULLE', ('PARIS', 120)), ('ORLY', ('PARIS', 89))]"
            ]
          },
          "metadata": {},
          "execution_count": 17
        }
      ]
    },
    {
      "cell_type": "code",
      "source": [
        "rdd_airports_cap = rdd_airports_filtered.mapValues(lambda x: (x[0].capitalize(), x[1]))\n",
        "rdd_airports_cap.take(5)"
      ],
      "metadata": {
        "colab": {
          "base_uri": "https://localhost:8080/"
        },
        "id": "te58BHZD86ud",
        "outputId": "204cce1d-891d-4a1d-cd9f-859939a6f563"
      },
      "execution_count": 20,
      "outputs": [
        {
          "output_type": "execute_result",
          "data": {
            "text/plain": [
              "[('CHARLES DE GAULLE', ('Paris', 120)), ('ORLY', ('Paris', 89))]"
            ]
          },
          "metadata": {},
          "execution_count": 20
        }
      ]
    },
    {
      "cell_type": "code",
      "source": [
        "rdd_airports_sorted = rdd_airports_cap.sortByKey()\n",
        "rdd_airports_sorted.take(5)"
      ],
      "metadata": {
        "colab": {
          "base_uri": "https://localhost:8080/"
        },
        "id": "TXQpqLws9jti",
        "outputId": "a551ac39-1234-428a-f9c7-e86bf981d603"
      },
      "execution_count": 21,
      "outputs": [
        {
          "output_type": "execute_result",
          "data": {
            "text/plain": [
              "[('CHARLES DE GAULLE', ('Paris', 120)), ('ORLY', ('Paris', 89))]"
            ]
          },
          "metadata": {},
          "execution_count": 21
        }
      ]
    },
    {
      "cell_type": "code",
      "source": [
        "rdd_airports_sorted.saveAsTextFile(\"rdd_airports_sorted.txt\")"
      ],
      "metadata": {
        "id": "okpBcT2h9xh5"
      },
      "execution_count": 22,
      "outputs": []
    },
    {
      "cell_type": "markdown",
      "source": [
        "# PairRDDs 3"
      ],
      "metadata": {
        "id": "V96OrBYUILaz"
      }
    },
    {
      "cell_type": "code",
      "source": [
        "# PairRDDs 3\n",
        "rdd_airports_no_header = rdd_airports.filter(lambda x: not \"name\" in x) # Filtra header\n",
        "rdd_pair_country_occurs = rdd_airports_no_header.map(lambda x: (x.split(\",\")[4].lower(), 1))\n",
        "rdd_pair_country_occurs.take(5)"
      ],
      "metadata": {
        "colab": {
          "base_uri": "https://localhost:8080/"
        },
        "id": "SO7a23V3IO_w",
        "outputId": "e4bafed1-3084-4004-b973-7fc2c8695d4f"
      },
      "execution_count": 24,
      "outputs": [
        {
          "output_type": "execute_result",
          "data": {
            "text/plain": [
              "[('papua new guinea', 1),\n",
              " ('papua new guinea', 1),\n",
              " ('papua new guinea', 1),\n",
              " ('papua new guinea', 1),\n",
              " ('papua new guinea', 1)]"
            ]
          },
          "metadata": {},
          "execution_count": 24
        }
      ]
    },
    {
      "cell_type": "code",
      "source": [
        "rdd_pair_country_count = rdd_pair_country_occurs.reduceByKey(lambda x, y: x + y)\n",
        "rdd_pair_country_count.take(5)"
      ],
      "metadata": {
        "colab": {
          "base_uri": "https://localhost:8080/"
        },
        "id": "dW7Cfo7fJFgN",
        "outputId": "779abde1-18d5-45cb-ffd9-7d4bf4539032"
      },
      "execution_count": 26,
      "outputs": [
        {
          "output_type": "execute_result",
          "data": {
            "text/plain": [
              "[('new zealand', 214),\n",
              " ('canada', 259),\n",
              " ('algeria', 49),\n",
              " ('afghanistan', 94),\n",
              " ('benin', 9)]"
            ]
          },
          "metadata": {},
          "execution_count": 26
        }
      ]
    },
    {
      "cell_type": "code",
      "source": [
        "rdd_pair_country_sorted = rdd_pair_country_count.sortBy(lambda x: x[1], ascending=False)\n",
        "rdd_pair_country_sorted.take(20)"
      ],
      "metadata": {
        "colab": {
          "base_uri": "https://localhost:8080/"
        },
        "id": "PX1qWa9oJ58Z",
        "outputId": "8be7e491-4738-466d-9b5b-b3cd23735e6b"
      },
      "execution_count": 33,
      "outputs": [
        {
          "output_type": "execute_result",
          "data": {
            "text/plain": [
              "[('usa', 552),\n",
              " ('germany', 529),\n",
              " ('france', 472),\n",
              " ('south africa', 262),\n",
              " ('canada', 259),\n",
              " ('iran', 256),\n",
              " ('zaire', 249),\n",
              " ('indonesia', 218),\n",
              " ('china', 218),\n",
              " ('new zealand', 214),\n",
              " ('russia', 189),\n",
              " ('india', 186),\n",
              " ('bolivia', 180),\n",
              " ('peru', 171),\n",
              " ('italy', 165),\n",
              " ('sweden', 161),\n",
              " ('england', 146),\n",
              " ('ecuador', 146),\n",
              " ('brazil', 142),\n",
              " ('argentina', 142)]"
            ]
          },
          "metadata": {},
          "execution_count": 33
        }
      ]
    },
    {
      "cell_type": "markdown",
      "source": [
        "# PairRDDs 4"
      ],
      "metadata": {
        "id": "4yybGfrnMeV6"
      }
    },
    {
      "cell_type": "code",
      "source": [
        "rdd_realestate_no_header = rdd_realestate.filter(lambda x: x.split(\",\")[0] != \"MLS\")\n",
        "rdd_realestate_pair = rdd_realestate_no_header.map(lambda x: (int(x.split(\",\")[3]), (float(x.split(\",\")[2]), 1)))\n",
        "rdd_realestate_pair.take(5)"
      ],
      "metadata": {
        "colab": {
          "base_uri": "https://localhost:8080/"
        },
        "id": "K9c2L_MpMkFC",
        "outputId": "ca31bc89-bb7d-432b-a1f4-8ef972bce190"
      },
      "execution_count": 38,
      "outputs": [
        {
          "output_type": "execute_result",
          "data": {
            "text/plain": [
              "[(3, (795000.0, 1)),\n",
              " (4, (399000.0, 1)),\n",
              " (4, (545000.0, 1)),\n",
              " (4, (909000.0, 1)),\n",
              " (3, (109900.0, 1))]"
            ]
          },
          "metadata": {},
          "execution_count": 38
        }
      ]
    },
    {
      "cell_type": "code",
      "source": [
        "rdd_realestate_tot_price_per_room = rdd_realestate_pair.reduceByKey(lambda x, y: (x[0] + y[0], x[1] + y[1]))\n",
        "rdd_realestate_tot_price_per_room.take(5)"
      ],
      "metadata": {
        "colab": {
          "base_uri": "https://localhost:8080/"
        },
        "id": "JgDlQReVNXAx",
        "outputId": "72a2e6ef-ff5c-4f6d-ca2c-a6938aefd711"
      },
      "execution_count": 40,
      "outputs": [
        {
          "output_type": "execute_result",
          "data": {
            "text/plain": [
              "[(4, (85575190.0, 177)),\n",
              " (2, (32761834.0, 123)),\n",
              " (0, (586900.0, 2)),\n",
              " (6, (2412900.0, 4)),\n",
              " (10, (699000.0, 1))]"
            ]
          },
          "metadata": {},
          "execution_count": 40
        }
      ]
    },
    {
      "cell_type": "code",
      "source": [
        "rdd_realestate_avg_price_per_room = rdd_realestate_tot_price_per_room.map(lambda x: (x[0], x[1][0] / x[1][1]))\n",
        "rdd_realestate_avg_price_per_room.take(5)"
      ],
      "metadata": {
        "colab": {
          "base_uri": "https://localhost:8080/"
        },
        "id": "2-e4qPahOGzv",
        "outputId": "3da4871f-a82e-4fed-e70d-ea9bca06a8cc"
      },
      "execution_count": 42,
      "outputs": [
        {
          "output_type": "execute_result",
          "data": {
            "text/plain": [
              "[(4, 483475.6497175141),\n",
              " (2, 266356.3739837398),\n",
              " (0, 293450.0),\n",
              " (6, 603225.0),\n",
              " (10, 699000.0)]"
            ]
          },
          "metadata": {},
          "execution_count": 42
        }
      ]
    },
    {
      "cell_type": "code",
      "source": [
        "rdd_realestate_avg_price_per_room_sorted = rdd_realestate_avg_price_per_room.sortByKey(ascending=False)\n",
        "rdd_realestate_avg_price_per_room_sorted.collect()"
      ],
      "metadata": {
        "colab": {
          "base_uri": "https://localhost:8080/"
        },
        "id": "l7Tpcs_dOj1I",
        "outputId": "82384c4e-a6bd-44c1-b681-d9766472d31b"
      },
      "execution_count": 45,
      "outputs": [
        {
          "output_type": "execute_result",
          "data": {
            "text/plain": [
              "[(10, 699000.0),\n",
              " (7, 325000.0),\n",
              " (6, 603225.0),\n",
              " (5, 657858.0645161291),\n",
              " (4, 483475.6497175141),\n",
              " (3, 359062.20649651974),\n",
              " (2, 266356.3739837398),\n",
              " (1, 169981.81818181818),\n",
              " (0, 293450.0)]"
            ]
          },
          "metadata": {},
          "execution_count": 45
        }
      ]
    }
  ]
}