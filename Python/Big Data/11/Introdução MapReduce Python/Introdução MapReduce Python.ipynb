{
  "nbformat": 4,
  "nbformat_minor": 0,
  "metadata": {
    "colab": {
      "provenance": [],
      "authorship_tag": "ABX9TyOO65YG9P5HcbpDRX4KxHtC",
      "include_colab_link": true
    },
    "kernelspec": {
      "name": "python3",
      "display_name": "Python 3"
    },
    "language_info": {
      "name": "python"
    }
  },
  "cells": [
    {
      "cell_type": "markdown",
      "metadata": {
        "id": "view-in-github",
        "colab_type": "text"
      },
      "source": [
        "<a href=\"https://colab.research.google.com/github/lucas-azdias/Scripts-Universidade/blob/main/Python/Big%20Data/11/Introdu%C3%A7%C3%A3o%20MapReduce%20Python/Introdu%C3%A7%C3%A3o%20MapReduce%20Python.ipynb\" target=\"_parent\"><img src=\"https://colab.research.google.com/assets/colab-badge.svg\" alt=\"Open In Colab\"/></a>"
      ]
    },
    {
      "cell_type": "code",
      "execution_count": 1,
      "metadata": {
        "colab": {
          "base_uri": "https://localhost:8080/"
        },
        "id": "qdEy5UsOu4JP",
        "outputId": "5f09f2b0-4370-4307-c279-9da164132037"
      },
      "outputs": [
        {
          "output_type": "execute_result",
          "data": {
            "text/plain": [
              "3"
            ]
          },
          "metadata": {},
          "execution_count": 1
        }
      ],
      "source": [
        "# Exemplo de função lambda\n",
        "sum = lambda x, y: x + y\n",
        "sum(1, 2)"
      ]
    },
    {
      "cell_type": "code",
      "source": [
        "# Exemplo de MAP\n",
        "# Retorna lista nova com a função aplicada a cada elemento\n",
        "lista = [1, 2, 3, 4]\n",
        "list(map(lambda x: x**2, lista))"
      ],
      "metadata": {
        "colab": {
          "base_uri": "https://localhost:8080/"
        },
        "id": "t8-QF9FFvaLz",
        "outputId": "2071f7b0-b418-4dfb-a92e-b6dc5a11e003"
      },
      "execution_count": 4,
      "outputs": [
        {
          "output_type": "execute_result",
          "data": {
            "text/plain": [
              "[1, 4, 9, 16]"
            ]
          },
          "metadata": {},
          "execution_count": 4
        }
      ]
    },
    {
      "cell_type": "code",
      "source": [
        "# Exemplo de FILTER\n",
        "# Retorna lista nova com elementos filtrados de acordo com o retorno da função dada para o elemento passado\n",
        "lista = [1, 2, 3, 4]\n",
        "list(filter(lambda x: x % 2 == 0, lista))"
      ],
      "metadata": {
        "colab": {
          "base_uri": "https://localhost:8080/"
        },
        "id": "UQDTBnqcvgEI",
        "outputId": "9d76f9cb-1abc-437e-9e18-4331e80a876a"
      },
      "execution_count": 3,
      "outputs": [
        {
          "output_type": "execute_result",
          "data": {
            "text/plain": [
              "[2, 4]"
            ]
          },
          "metadata": {},
          "execution_count": 3
        }
      ]
    },
    {
      "cell_type": "code",
      "source": [
        "# Exemplo de REDUCE\n",
        "# Retorna um valor que comprime a lista inteira\n",
        "from functools import reduce\n",
        "lista = [1, 2, 3, 4]\n",
        "reduce(lambda x, y: x + y, lista)"
      ],
      "metadata": {
        "colab": {
          "base_uri": "https://localhost:8080/"
        },
        "id": "G-NbMzUhv1OB",
        "outputId": "389cc33e-1d80-4425-a217-7cf865b5878a"
      },
      "execution_count": 8,
      "outputs": [
        {
          "output_type": "execute_result",
          "data": {
            "text/plain": [
              "10"
            ]
          },
          "metadata": {},
          "execution_count": 8
        }
      ]
    },
    {
      "cell_type": "code",
      "source": [
        "# Exemplo Map-Filter-Reduce com classes personalizadas\n",
        "class Product:\n",
        "  # Constructor\n",
        "  def __init__(self, description, price):\n",
        "    self.description = description\n",
        "    self.price = price\n",
        "\n",
        "  # String method\n",
        "  def __str__(self):\n",
        "    return f\"{self.description} ${self.price:.2f}\"\n",
        "\n",
        "\n",
        "# Lista de produtos\n",
        "print(\"LISTA INICIAL:\")\n",
        "lista = [Product(\"Cadeira gamer\", 999), Product(\"Mouse gamer\", 80), Product(\"Headset gamer\", 400), Product(\"Teclado gamer\", 599)]\n",
        "for produto in lista:\n",
        "  print(produto)\n",
        "\n",
        "# Aumentando preço em 10% para cada produto\n",
        "print(\"\\nMAP:\")\n",
        "lista = list(map(lambda x: Product(x.description, x.price * 1.10), lista))\n",
        "for produto in lista:\n",
        "  print(produto)\n",
        "\n",
        "# Filtrando produtos com preço maior que 100\n",
        "print(\"\\nFILTER:\")\n",
        "lista = list(filter(lambda x: x.price > 100, lista))\n",
        "for produto in lista:\n",
        "  print(produto)\n",
        "\n",
        "# Somando preço de todos os produtos\n",
        "print(\"\\nREDUCE:\")\n",
        "from functools import reduce\n",
        "# 1ª maneira\n",
        "soma_product = reduce(lambda x, y: Product(\"\", x.price + y.price), lista)\n",
        "soma = soma_product.price\n",
        "print(f\"${soma:.2f}\")\n",
        "# 2ª maneira\n",
        "lista_precos = list(map(lambda x: x.price, lista))\n",
        "soma = reduce(lambda x, y: x + y, lista_precos)\n",
        "print(f\"${soma:.2f}\")"
      ],
      "metadata": {
        "colab": {
          "base_uri": "https://localhost:8080/"
        },
        "id": "YDJhFKMlw8-8",
        "outputId": "fbf5c2f5-862a-471d-c61b-864dbee7e467"
      },
      "execution_count": 23,
      "outputs": [
        {
          "output_type": "stream",
          "name": "stdout",
          "text": [
            "LISTA INICIAL:\n",
            "Cadeira gamer $999.00\n",
            "Mouse gamer $80.00\n",
            "Headset gamer $400.00\n",
            "Teclado gamer $599.00\n",
            "\n",
            "MAP:\n",
            "Cadeira gamer $1098.90\n",
            "Mouse gamer $88.00\n",
            "Headset gamer $440.00\n",
            "Teclado gamer $658.90\n",
            "\n",
            "FILTER:\n",
            "Cadeira gamer $1098.90\n",
            "Headset gamer $440.00\n",
            "Teclado gamer $658.90\n",
            "\n",
            "REDUCE:\n",
            "$2197.80\n",
            "$2197.80\n"
          ]
        }
      ]
    }
  ]
}