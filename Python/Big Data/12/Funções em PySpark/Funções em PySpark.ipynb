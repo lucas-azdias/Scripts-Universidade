{
  "nbformat": 4,
  "nbformat_minor": 0,
  "metadata": {
    "colab": {
      "provenance": [],
      "authorship_tag": "ABX9TyMquGxlFelk2j/Z5CFNz6e+",
      "include_colab_link": true
    },
    "kernelspec": {
      "name": "python3",
      "display_name": "Python 3"
    },
    "language_info": {
      "name": "python"
    }
  },
  "cells": [
    {
      "cell_type": "markdown",
      "metadata": {
        "id": "view-in-github",
        "colab_type": "text"
      },
      "source": [
        "<a href=\"https://colab.research.google.com/github/lucas-azdias/Scripts-Universidade/blob/main/Python/Big%20Data/12/Fun%C3%A7%C3%B5es%20em%20PySpark/Fun%C3%A7%C3%B5es%20em%20PySpark.ipynb\" target=\"_parent\"><img src=\"https://colab.research.google.com/assets/colab-badge.svg\" alt=\"Open In Colab\"/></a>"
      ]
    },
    {
      "cell_type": "code",
      "source": [
        "#Instalando PySpark\n",
        "!pip install PySpark"
      ],
      "metadata": {
        "colab": {
          "base_uri": "https://localhost:8080/"
        },
        "id": "iELamzEurwgJ",
        "outputId": "7c861ae7-3c85-4ac9-c905-0e0d605a5825"
      },
      "execution_count": 32,
      "outputs": [
        {
          "output_type": "stream",
          "name": "stdout",
          "text": [
            "Requirement already satisfied: PySpark in /usr/local/lib/python3.10/dist-packages (3.5.0)\n",
            "Requirement already satisfied: py4j==0.10.9.7 in /usr/local/lib/python3.10/dist-packages (from PySpark) (0.10.9.7)\n"
          ]
        }
      ]
    },
    {
      "cell_type": "code",
      "source": [
        "# Importando as bibliotecas\n",
        "import pyspark  # Biblioteca principal\n",
        "from pyspark.sql import SparkSession  # Biblioteca para a criação de uma sessão Spark"
      ],
      "metadata": {
        "id": "UpW_8Huerw_f"
      },
      "execution_count": 33,
      "outputs": []
    },
    {
      "cell_type": "code",
      "source": [
        "# Criação de uma sessão Spark\n",
        "spark = SparkSession.builder.appName(\"Word Count\").master('local[*]').getOrCreate()"
      ],
      "metadata": {
        "id": "m2ohnbKHr1O9"
      },
      "execution_count": 34,
      "outputs": []
    },
    {
      "cell_type": "code",
      "source": [
        "# Criação do SparkContext (conexão entre o Driver e Workers)\n",
        "sc = spark.sparkContext"
      ],
      "metadata": {
        "id": "XeB1TPvFr1mZ"
      },
      "execution_count": 35,
      "outputs": []
    },
    {
      "cell_type": "markdown",
      "source": [
        "RDD → RESILIENT DISTRIBUTED DATASETS (é um conjunto de dados de quaisquer tipos)\n",
        "*   Tem tolerância a falhas (possui redundância em várias máquinas em caso de falhas)\n",
        "*   Foco em quantidades massivas de dados\n",
        "\n"
      ],
      "metadata": {
        "id": "WERGJXRRsVM5"
      }
    },
    {
      "cell_type": "markdown",
      "source": [
        "Há dois tipos de funções no PySpark (para os RDDs):\n",
        "1.   Transformações → resulta em um RDD (map, filter, flatMap, sample, distinct, union, intersection, subtract, cartesian etc.)\n",
        "  *   ocorre nos nós escravos (nodes) → distribuída\n",
        "  *   são atrasados até ocorrer uma operação (lazy evaluation)\n",
        "2.   Operações → resulta em um valor condensado não-RDD (collect, count, countByValue, take, saveAsTextFile, reduce etc.)\n",
        "  *   ocorre no nó mestre (driver) → centralizada\n",
        "\n"
      ],
      "metadata": {
        "id": "LLovnZ7vq8Wz"
      }
    },
    {
      "cell_type": "code",
      "execution_count": 36,
      "metadata": {
        "colab": {
          "base_uri": "https://localhost:8080/"
        },
        "id": "MIGuFT65qoNg",
        "outputId": "7ae2dd27-d2d0-462b-953f-67150a908489"
      },
      "outputs": [
        {
          "output_type": "execute_result",
          "data": {
            "text/plain": [
              "['mmcc,n/a,ciudad acuna international,ciudad acuna,brazil,29,19,55,n,100,58,51,w,296,29.332,-100.981,5295',\n",
              " 'sbbg,bgx,comandante gustavo kraemer,bage,brazil,31,23,25,s,54,6,44,w,183,-31.39,-54.112,7133',\n",
              " 'sbch,xap,chapeco,chapeco,brazil,27,8,3,s,52,39,23,w,655,-27.134,-52.656,7145',\n",
              " 'sbcm,n/a,forquilhinha,criciuma,brazil,28,43,32,s,49,25,29,w,29,-28.726,-49.425,7148',\n",
              " 'sbco,n/a,canoas,porto alegre,brazil,29,56,45,s,51,8,40,w,8,-29.946,-51.144,7149',\n",
              " 'sbcx,cxj,campo dos bugres,caxias do sul,brazil,29,11,49,s,51,11,15,w,754,-29.197,-51.188,7154',\n",
              " 'sbfl,fln,hercilio luz,florianopolis,brazil,27,40,21,s,48,32,52,w,6,-27.672,-48.548,7165',\n",
              " 'sbjv,joi,joinville,joinville,brazil,26,13,29,s,48,47,50,w,5,-26.225,-48.797,7190',\n",
              " 'sblj,n/a,lages,lajes,brazil,27,46,55,s,50,16,53,w,935,-27.782,-50.281,7193',\n",
              " 'sbnf,nvt,navegantes itajai,navegantes,brazil,26,52,48,s,48,39,5,w,6,-26.88,-48.651,7210',\n",
              " 'sbnm,gel,santo angelo,santo angelo,brazil,28,16,54,s,54,10,8,w,322,-28.282,-54.169,7211',\n",
              " 'sbpa,poa,salgado filho,porto alegre,brazil,29,59,39,s,51,10,17,w,4,-29.994,-51.171,7215',\n",
              " 'sbpf,pfb,lauro kurtz,passo fundo,brazil,28,14,38,s,52,19,35,w,725,-28.244,-52.326,7218',\n",
              " 'sbpk,pet,pelotas,pelotas,brazil,31,43,6,s,52,19,39,w,18,-31.718,-52.328,7221',\n",
              " 'sbrg,rig,rio grande,rio grande,brazil,32,4,57,s,52,9,59,w,9,-32.083,-52.166,7231',\n",
              " 'sbsm,stm,santa maria,santarem,brazil,29,42,40,s,53,41,17,w,88,-29.711,-53.688,7240',\n",
              " 'sbug,urg,rubem berta,uruguaiana,brazil,29,46,55,s,57,2,17,w,79,-29.782,-57.038,7256']"
            ]
          },
          "metadata": {},
          "execution_count": 36
        }
      ],
      "source": [
        "# Task 1\n",
        "rdd_airports = sc.textFile(\"Airports.csv\")\n",
        "rdd_ap_lower = rdd_airports.map(lambda x: x.lower())\n",
        "rdd_bra_ap_lat25 = rdd_ap_lower.filter(lambda x: x.split(\",\")[4].lower() == \"brazil\".lower() and float(x.split(\",\")[5]) > 25)\n",
        "rdd_bra_ap_lat25.collect()"
      ]
    },
    {
      "cell_type": "code",
      "source": [
        "# Task 2\n",
        "rdd_bra_ap_lat25_lats = rdd_bra_ap_lat25.map(lambda x: float(x.split(\",\")[5]))\n",
        "avg_bra_ap_lat25_lat = rdd_bra_ap_lat25_lats.reduce(lambda x, y: (x + y) / 2)\n",
        "print(avg_bra_ap_lat25_lat)"
      ],
      "metadata": {
        "colab": {
          "base_uri": "https://localhost:8080/"
        },
        "id": "lGA0rl3xAvSv",
        "outputId": "9d2f6e3b-539b-4025-8992-989502405a95"
      },
      "execution_count": 37,
      "outputs": [
        {
          "output_type": "stream",
          "name": "stdout",
          "text": [
            "29.441314697265625\n"
          ]
        }
      ]
    },
    {
      "cell_type": "code",
      "source": [
        "# Task 3\n",
        "rdd_ap_lower_noheader = rdd_ap_lower.filter(lambda x: x.split(\",\")[13].isdigit())\n",
        "rdd_ap_lower_noheader.take(10)"
      ],
      "metadata": {
        "colab": {
          "base_uri": "https://localhost:8080/"
        },
        "id": "kCku2DcTC1tY",
        "outputId": "6d5992df-d352-48a7-fbe6-e977938aa707"
      },
      "execution_count": 38,
      "outputs": [
        {
          "output_type": "execute_result",
          "data": {
            "text/plain": [
              "['ayga,gka,goroka,goroka,papua new guinea,6,4,54,s,145,23,30,e,1610,-6.082,145.392,1',\n",
              " 'ayla,lae,n/a,lae,papua new guinea,0,0,0,u,0,0,0,u,0,0,0,2',\n",
              " 'aymd,mag,madang,madang,papua new guinea,5,12,25,s,145,47,19,e,7,-5.207,145.789,3',\n",
              " 'aymh,hgu,mount hagen,mount hagen,papua new guinea,5,49,34,s,144,17,46,e,1643,-5.826,144.296,4',\n",
              " 'aynz,lae,nadzab,nadzab,papua new guinea,6,34,11,s,146,43,34,e,73,-6.57,146.726,5',\n",
              " 'aypy,pom,port moresby jacksons international,port moresby,papua new guinea,9,26,36,s,147,13,12,e,45,-9.443,147.22,6',\n",
              " 'ayrb,rab,n/a,rabaul,papua new guinea,0,0,0,u,0,0,0,u,0,0,0,7',\n",
              " 'aywk,wwk,wewak international,wewak,papua new guinea,3,35,1,s,143,40,9,e,6,-3.584,143.669,8',\n",
              " 'bgam,n/a,n/a,angmagssalik,greenland,0,0,0,u,0,0,0,u,0,0,0,9',\n",
              " 'bgas,n/a,n/a,angissoq,greenland,0,0,0,u,0,0,0,u,0,0,0,10']"
            ]
          },
          "metadata": {},
          "execution_count": 38
        }
      ]
    },
    {
      "cell_type": "code",
      "source": [
        "# Task 3.1\n",
        "max_ap_alt = rdd_ap_lower_noheader.reduce(lambda x, y: x if float(x.split(\",\")[13]) >= float(y.split(\",\")[13]) else y)\n",
        "print(max_ap_alt)"
      ],
      "metadata": {
        "colab": {
          "base_uri": "https://localhost:8080/"
        },
        "id": "JuoT8cuZBcMI",
        "outputId": "f314f084-a599-4ef7-a103-c3e4de53930e"
      },
      "execution_count": 39,
      "outputs": [
        {
          "output_type": "stream",
          "name": "stdout",
          "text": [
            "slcn,n/a,charana,charana,bolivia,17,35,38,s,69,26,3,w,4060,-17.594,-69.434,7551\n"
          ]
        }
      ]
    },
    {
      "cell_type": "code",
      "source": [
        "# Task 3.2\n",
        "min_ap_alt = rdd_ap_lower_noheader.reduce(lambda x, y: x if float(x.split(\",\")[13]) <= float(y.split(\",\")[13]) else y)\n",
        "print(min_ap_alt)"
      ],
      "metadata": {
        "colab": {
          "base_uri": "https://localhost:8080/"
        },
        "id": "QH_WnfJ-Cye9",
        "outputId": "c5f3edf7-4bfb-434e-99df-66d1a5892df5"
      },
      "execution_count": 40,
      "outputs": [
        {
          "output_type": "stream",
          "name": "stdout",
          "text": [
            "ayla,lae,n/a,lae,papua new guinea,0,0,0,u,0,0,0,u,0,0,0,2\n"
          ]
        }
      ]
    }
  ]
}