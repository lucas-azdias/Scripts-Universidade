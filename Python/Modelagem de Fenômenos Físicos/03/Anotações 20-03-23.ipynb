{
  "nbformat": 4,
  "nbformat_minor": 0,
  "metadata": {
    "colab": {
      "provenance": []
    },
    "kernelspec": {
      "name": "python3",
      "display_name": "Python 3"
    },
    "language_info": {
      "name": "python"
    }
  },
  "cells": [
    {
      "cell_type": "markdown",
      "source": [
        "1. A prática do uso de percentuais\n",
        "começou no final da idade média.\n",
        "Vamos considerar um empréstimo de\n",
        "10000 Fiorini d’oro a uma taxa de 3%\n",
        "ao ano do Banco Medici, por 7 anos\n",
        "com o empréstimo renovado todos\n",
        "os anos. Neste caso, o pobre debitore\n",
        "pagaria: 12,298.70 Fiorini d’oro."
      ],
      "metadata": {
        "id": "WB2jSUrONEBR"
      }
    },
    {
      "cell_type": "code",
      "execution_count": null,
      "metadata": {
        "colab": {
          "base_uri": "https://localhost:8080/",
          "height": 192
        },
        "id": "6Gdc8_NNI-Rw",
        "outputId": "765b79a4-0c8a-44fb-be07-9e1af240673b"
      },
      "outputs": [
        {
          "output_type": "display_data",
          "data": {
            "text/plain": [
              "<IPython.core.display.Math object>"
            ],
            "text/latex": "$\\displaystyle f0 = 10000$"
          },
          "metadata": {}
        },
        {
          "output_type": "display_data",
          "data": {
            "text/plain": [
              "<IPython.core.display.Math object>"
            ],
            "text/latex": "$\\displaystyle f1 = 10000.00 + (10000.00 * 0.03) = 10300.00$"
          },
          "metadata": {}
        },
        {
          "output_type": "display_data",
          "data": {
            "text/plain": [
              "<IPython.core.display.Math object>"
            ],
            "text/latex": "$\\displaystyle f2 = 10300.00 + (10300.00 * 0.03) = 10609.00$"
          },
          "metadata": {}
        },
        {
          "output_type": "display_data",
          "data": {
            "text/plain": [
              "<IPython.core.display.Math object>"
            ],
            "text/latex": "$\\displaystyle f3 = 10609.00 + (10609.00 * 0.03) = 10927.27$"
          },
          "metadata": {}
        },
        {
          "output_type": "display_data",
          "data": {
            "text/plain": [
              "<IPython.core.display.Math object>"
            ],
            "text/latex": "$\\displaystyle f4 = 10927.27 + (10927.27 * 0.03) = 11255.09$"
          },
          "metadata": {}
        },
        {
          "output_type": "display_data",
          "data": {
            "text/plain": [
              "<IPython.core.display.Math object>"
            ],
            "text/latex": "$\\displaystyle f5 = 11255.09 + (11255.09 * 0.03) = 11592.74$"
          },
          "metadata": {}
        },
        {
          "output_type": "display_data",
          "data": {
            "text/plain": [
              "<IPython.core.display.Math object>"
            ],
            "text/latex": "$\\displaystyle f6 = 11592.74 + (11592.74 * 0.03) = 11940.52$"
          },
          "metadata": {}
        },
        {
          "output_type": "display_data",
          "data": {
            "text/plain": [
              "<IPython.core.display.Math object>"
            ],
            "text/latex": "$\\displaystyle f7 = 11940.52 + (11940.52 * 0.03) = 12298.74$"
          },
          "metadata": {}
        }
      ],
      "source": [
        "from IPython.display import display, Math\n",
        "import sympy as sp\n",
        "\n",
        "\n",
        "# Declara as variáveis usadas\n",
        "f0, f = sp.symbols('f0 f')\n",
        "\n",
        "t = 7 # Tempo em anos\n",
        "i = 0.03 # Taxa de juros anualizada\n",
        "\n",
        "f0 = 10000 # Capital inicial\n",
        "display(Math(f\"f0 = {f0}\")) # Mostra o capital inicial formatado\n",
        "\n",
        "# Calcula o capital para cada ano e imprime formatado\n",
        "for p in range(t):\n",
        "  f = f0 * (1 + i)\n",
        "  display(Math(f\"f{p + 1} = {f0:.2f} + ({f0:.2f} * 0.03) = {f:.2f}\"))\n",
        "  f0 = f\n"
      ]
    },
    {
      "cell_type": "markdown",
      "source": [
        "\n",
        "\n",
        "---\n",
        "\n"
      ],
      "metadata": {
        "id": "j6F8DHIgNGTo"
      }
    },
    {
      "cell_type": "markdown",
      "source": [
        "2. Você já tem um código, em Python para calcular o\n",
        "juro até o 7 ano, usando um laço de repetição.\n",
        "Vamos mudar este código, ainda usando o laço de\n",
        "repetição para calcular o montante depois de 200\n",
        "anos.\n",
        "E medir quanto tempo o Python leva calculando\n",
        "isso no Google Colaboratory."
      ],
      "metadata": {
        "id": "KqDhug0BNHRr"
      }
    },
    {
      "cell_type": "code",
      "source": [
        "from IPython.display import display, Math\n",
        "import sympy as sp\n",
        "import time\n",
        "\n",
        "def calcJuros(i, t):\n",
        "  # Declara as variáveis usadas\n",
        "  f0, f = sp.symbols('f0 f')\n",
        "\n",
        "  f0 = 10000 # Capital inicial\n",
        "  #display(Math(f\"f0 = {f0}\")) # Mostra o capital inicial formatado\n",
        "\n",
        "  # Calcula o capital para cada ano e imprime formatado\n",
        "  for p in range(t):\n",
        "    f = f0 * (1 + i)\n",
        "    #display(Math(f\"f{p + 1} = {f0:.2f} + ({f0:.2f} * 0.03) = {f:.2f}\"))\n",
        "    f0 = f\n",
        "\n",
        "i = 0.03 # Taxa de juros anualizada\n",
        "\n",
        "t = 7 # Tempo em anos\n",
        "initial_time = time.clock_gettime_ns(time.CLOCK_BOOTTIME)\n",
        "calcJuros(i, t)\n",
        "end_time = time.clock_gettime_ns(time.CLOCK_BOOTTIME)\n",
        "print(f\"Para {t} anos, demora {end_time - initial_time}ns.\")\n",
        "\n",
        "t = 200 # Tempo em anos\n",
        "initial_time = time.clock_gettime_ns(time.CLOCK_BOOTTIME)\n",
        "calcJuros(i, t)\n",
        "end_time = time.clock_gettime_ns(time.CLOCK_BOOTTIME)\n",
        "print(f\"Para {t} anos, demora {end_time - initial_time}ns.\")\n"
      ],
      "metadata": {
        "colab": {
          "base_uri": "https://localhost:8080/"
        },
        "id": "L_Y2mIpcNH8E",
        "outputId": "3086e92f-ae0a-436c-d21b-5ad0dbf003ed"
      },
      "execution_count": null,
      "outputs": [
        {
          "output_type": "stream",
          "name": "stdout",
          "text": [
            "Para 7 anos, demora 201378ns.\n",
            "Para 200 anos, demora 108294ns.\n"
          ]
        }
      ]
    },
    {
      "cell_type": "markdown",
      "source": [
        "\n",
        "\n",
        "---\n",
        "\n"
      ],
      "metadata": {
        "id": "fuJgrJMDO1vj"
      }
    },
    {
      "cell_type": "markdown",
      "source": [
        "3. A \"BelezaJá\" é uma empresa inovadora no ramo de cosméticos\n",
        "que recentemente lançou uma plataforma de vendas online. O\n",
        "número de clientes cadastrados na plataforma está crescendo\n",
        "graças a um grande esforço de marketing. Ao lado estão os\n",
        "números de clientes registrados na plataforma a cada mês,\n",
        "durante 10 meses. Seu objetivo é determinar quantos clientes\n",
        "a empresa terá em três anos de funcionamento se este\n",
        "movimento de crescimento continuar."
      ],
      "metadata": {
        "id": "xHDDWek8O2h2"
      }
    },
    {
      "cell_type": "code",
      "source": [
        "import matplotlib.pyplot as pyplot\n",
        "\n",
        "\n",
        "history_clients = [1004, 1188, 1446, 1736, 2068, 2489, 3013, 3614, 4284, 5120] # Histórico de número de clientes\n",
        "history_yield = list() # Histórico de taxas de crescimento de número de clientes\n",
        "\n",
        "for i in range(len(history_clients) - 1):\n",
        "  history_yield.append((history_clients[i + 1] / history_clients[i]) - 1)\n",
        "\n",
        "average_yield = sum(history_yield) / len(history_yield) # Calcula a taxa média de crescimento\n",
        "\n",
        "# Cálculo da previsão para os próximos três meses baseado na média de crescimento\n",
        "prev_clients = list()\n",
        "last_clients = history_clients[len(history_clients) - 1]\n",
        "for i in range((3 * 12) - len(history_clients)):\n",
        "  prev_clients.append(last_clients * (1 + average_yield) ** (i + 1))\n",
        "\n",
        "\n",
        "# Configuração do gráfico\n",
        "pyplot.title(\"Gráfico de crescimento do número de clientes\")\n",
        "#pyplot.gca().set_aspect('equal', 'datalim')\n",
        "pyplot.xlabel(\"Tempo (meses)\")\n",
        "pyplot.ylabel(\"Número de clientes\")\n",
        "\n",
        "# Plotagens ao gráfico\n",
        "pyplot.scatter(range(len(history_clients)), history_clients, color=\"blue\") # Dados históricos\n",
        "pyplot.scatter(range(len(history_clients), len(history_clients) + len(prev_clients)), prev_clients, color=\"red\") # Dados da previsão\n",
        "\n",
        "# Mostrar gráfico\n",
        "pyplot.show()\n"
      ],
      "metadata": {
        "colab": {
          "base_uri": "https://localhost:8080/",
          "height": 295
        },
        "id": "fSvwRWCPO3Dj",
        "outputId": "bd49c328-db93-4714-ebb3-fc8d7799ac16"
      },
      "execution_count": null,
      "outputs": [
        {
          "output_type": "display_data",
          "data": {
            "text/plain": [
              "<Figure size 432x288 with 1 Axes>"
            ],
            "image/png": "[encoded data removed]"
          },
          "metadata": {
            "needs_background": "light"
          }
        }
      ]
    },
    {
      "cell_type": "markdown",
      "source": [
        "\n",
        "\n",
        "---\n",
        "\n"
      ],
      "metadata": {
        "id": "dDcU2JJlPX8b"
      }
    },
    {
      "cell_type": "markdown",
      "source": [
        "4. Considerando 𝑓(𝑥) = 𝑥2, (a) calcule o coeficiente angular da tangente\n",
        "que passa pelo ponto (1,1); (b) calcule o coeficiente angular da\n",
        "tangente que passa pelo ponto (−1/2,1/4). Faça isso no Google\n",
        "Colaboratory, usando álgebra e depois plote o gráfico da função e as\n",
        "duas tangentes nestes pontos. Depois, usando a Biblioteca Sympy ache\n",
        "o limite desta função quando 𝑥 → 1 e quando 𝑥 → −1/2."
      ],
      "metadata": {
        "id": "ysSvPFdfPYum"
      }
    },
    {
      "cell_type": "markdown",
      "source": [
        "Calculando a tangente para $f(x)=x^2$ tendo que $x_{f}=x+h$, temos:\n",
        "<br>\n",
        "$$m=\\frac{y_{f}-y}{x_{f}-x}$$\n",
        "<br>\n",
        "$$m=\\frac{x_{f}^2-x^2}{x_{f}-x}$$\n",
        "<br>\n",
        "$$m=\\frac{(x+h)^2-x^2}{(x+h)-x}$$\n",
        "<br>\n",
        "$$m=\\frac{x^2+2xh+h^2-x^2}{h}$$\n",
        "<br>\n",
        "$$m=\\frac{2xh+h^2}{h}$$\n",
        "<br>\n",
        "$$m=2x+h$$\n",
        "<br>\n",
        "<br>\n",
        "Mas como $h=0$ no limite, então:\n",
        "<br>\n",
        "$$m=2x$$"
      ],
      "metadata": {
        "id": "j_RyI_uw2wyd"
      }
    },
    {
      "cell_type": "code",
      "source": [
        "from IPython.display import display, Math\n",
        "import sympy as sp\n",
        "\n",
        "\n",
        "# Declara as variáveis usadas\n",
        "m, x, h = sp.symbols('m x h')\n",
        "\n",
        "# Expressão foi simplificada considerando xf = x + h e f(x) = x**2\n",
        "m = sp.limit(((x + h)**2 - x**2) / (x + h - x), h, 0) # Limite para h tendendo a 0\n",
        "display(Math(f\"O \\space limite \\space é \\space igual \\space a \\space {m}.\"))\n"
      ],
      "metadata": {
        "colab": {
          "base_uri": "https://localhost:8080/",
          "height": 39
        },
        "id": "fQ7CI1yPPZUB",
        "outputId": "c78d217d-f962-45ed-ced0-cec2081dc2a4"
      },
      "execution_count": 16,
      "outputs": [
        {
          "output_type": "display_data",
          "data": {
            "text/plain": [
              "<IPython.core.display.Math object>"
            ],
            "text/latex": "$\\displaystyle O \\space limite \\space é \\space igual \\space a \\space 2*x.$"
          },
          "metadata": {}
        }
      ]
    },
    {
      "cell_type": "markdown",
      "source": [
        "A) Calcule o coeficiente angular da tangente\n",
        "que passa pelo ponto (1,1)"
      ],
      "metadata": {
        "id": "dVT6iQua2nmu"
      }
    },
    {
      "cell_type": "code",
      "source": [
        "# A)\n",
        "# Para o ponto (1, 1)\n",
        "x1 = 1\n",
        "y1 = 1\n",
        "a = m.evalf(subs={x:x1})\n",
        "b = y1 - a * x1\n",
        "display(Math(f\"Para \\space o \\space ponto \\space (1, 1), \\space m = {a:.2f}\"))\n",
        "\n",
        "f = sp.plot(x**2, show=False)\n",
        "f.append(sp.plot(a * x + b, show=False)[0])\n",
        "f.show()\n"
      ],
      "metadata": {
        "colab": {
          "base_uri": "https://localhost:8080/",
          "height": 319
        },
        "id": "WZTPcu8S2SvY",
        "outputId": "7467ce5d-2835-4c7c-ca32-fbd07455cc28"
      },
      "execution_count": 29,
      "outputs": [
        {
          "output_type": "display_data",
          "data": {
            "text/plain": [
              "<IPython.core.display.Math object>"
            ],
            "text/latex": "$\\displaystyle Para \\space o \\space ponto \\space (1, 1), \\space m = 2.00$"
          },
          "metadata": {}
        },
        {
          "output_type": "display_data",
          "data": {
            "text/plain": [
              "<Figure size 432x288 with 1 Axes>"
            ],
            "image/png": "[encoded data removed]"
          },
          "metadata": {
            "needs_background": "light"
          }
        }
      ]
    },
    {
      "cell_type": "markdown",
      "source": [
        "B) Calcule o coeficiente angular da\n",
        "tangente que passa pelo ponto (−1/2,1/4)"
      ],
      "metadata": {
        "id": "ymC4hwRE7H2p"
      }
    },
    {
      "cell_type": "code",
      "source": [
        "# B)\n",
        "# Para o ponto (-1/2, 1/4)\n",
        "x2 = -1/2\n",
        "y2 = 1/4\n",
        "a = m.evalf(subs={x:x2})\n",
        "b = y2 - a * x2\n",
        "display(Math(f\"Para \\space o \\space ponto \\space (-1/2, 1/4), \\space m = {a:.2f}\"))\n",
        "\n",
        "f = sp.plot(x**2, show=False)\n",
        "f.append(sp.plot(a * x + b, show=False)[0])\n",
        "f.show()\n"
      ],
      "metadata": {
        "colab": {
          "base_uri": "https://localhost:8080/",
          "height": 317
        },
        "id": "RGbpoLk22XA9",
        "outputId": "f1fe9d3b-8cb8-4807-8911-8f70eb7e8e7f"
      },
      "execution_count": 31,
      "outputs": [
        {
          "output_type": "display_data",
          "data": {
            "text/plain": [
              "<IPython.core.display.Math object>"
            ],
            "text/latex": "$\\displaystyle Para \\space o \\space ponto \\space (-1/2, 1/4), \\space m = -1.00$"
          },
          "metadata": {}
        },
        {
          "output_type": "display_data",
          "data": {
            "text/plain": [
              "<Figure size 432x288 with 1 Axes>"
            ],
            "image/png": "[encoded data removed]"
          },
          "metadata": {
            "needs_background": "light"
          }
        }
      ]
    },
    {
      "cell_type": "markdown",
      "source": [
        "Usando a Biblioteca Sympy ache\n",
        "o limite desta função quando 𝑥 → 1 e quando 𝑥 → −1/2"
      ],
      "metadata": {
        "id": "TFaMYdVd7V1w"
      }
    },
    {
      "cell_type": "code",
      "source": [
        "from IPython.display import display, Math\n",
        "import sympy as sp\n",
        "\n",
        "\n",
        "# Declara as variáveis usadas\n",
        "y, x = sp.symbols('y x')\n",
        "\n",
        "x1 = 1\n",
        "y = sp.limit(x**2, x, x1) # Limite para x tendendo a 1\n",
        "display(Math(f\"O \\space limite \\space é \\space igual \\space a \\space {sp.Rational(y)} \\space para \\space x = {sp.Rational(x1)}.\"))\n",
        "\n",
        "x2 = -1/2\n",
        "y = sp.limit(x**2, x, x2) # Limite para x tendendo a -1/2\n",
        "display(Math(f\"O \\space limite \\space é \\space igual \\space a \\space {sp.Rational(y)} \\space para \\space x = {sp.Rational(x2)}.\"))\n"
      ],
      "metadata": {
        "colab": {
          "base_uri": "https://localhost:8080/",
          "height": 61
        },
        "id": "kBRZUL697ZUn",
        "outputId": "26d43a97-0fb9-44ef-c0e0-fdb4957c8c1b"
      },
      "execution_count": 38,
      "outputs": [
        {
          "output_type": "display_data",
          "data": {
            "text/plain": [
              "<IPython.core.display.Math object>"
            ],
            "text/latex": "$\\displaystyle O \\space limite \\space é \\space igual \\space a \\space 1 \\space para \\space x = 1.$"
          },
          "metadata": {}
        },
        {
          "output_type": "display_data",
          "data": {
            "text/plain": [
              "<IPython.core.display.Math object>"
            ],
            "text/latex": "$\\displaystyle O \\space limite \\space é \\space igual \\space a \\space 1/4 \\space para \\space x = -1/2.$"
          },
          "metadata": {}
        }
      ]
    },
    {
      "cell_type": "markdown",
      "source": [
        "\n",
        "\n",
        "---\n",
        "\n"
      ],
      "metadata": {
        "id": "9T9l6XGRVyrL"
      }
    },
    {
      "cell_type": "markdown",
      "source": [
        "5. Considerando a função a seguir, crie uma tabela que indique o valor\n",
        "do limite quando 𝑥 tende a 3 pela esquerda e pela direita."
      ],
      "metadata": {
        "id": "9MbW_A9_VzTk"
      }
    },
    {
      "cell_type": "markdown",
      "metadata": {
        "id": "xFbtBjKmqTGJ"
      },
      "source": [
        "## Pela esquerda\n",
        "$x$  | $f(x)$\n",
        "  ------------- | -------------\n",
        "  $$2.5$$  | $$4.5$$\n",
        "  $$2.75$$  | $$4.75$$\n",
        "  $$2.9$$  | $$4.9$$\n",
        "  $$2.99$$  | $$4.99$$\n",
        "\n",
        "<br>\n",
        "\n",
        "  ## Pela direita\n",
        "  $x$  | $f(x)$\n",
        "  ------------- | -------------\n",
        "  $$3.5$$  | $$5.5$$\n",
        "  $$3.25$$  | $$5.25$$\n",
        "  $$3.1$$  | $$5.1$$\n",
        "  $$3.01$$  | $$5.01$$"
      ]
    },
    {
      "cell_type": "code",
      "source": [
        "import matplotlib.pyplot as pyplot\n",
        "import numpy as np\n",
        "\n",
        "\n",
        "# Declara as variáveis usadas\n",
        "x_limit = 3 # x que está sendo estudado\n",
        "x = np.linspace(2.25, 3.75)\n",
        "x_left = [2.5, 2.75, 2.9, 2.99]\n",
        "x_right = [3.5, 3.25, 3.1, 3.01]\n",
        "\n",
        "def f(x):\n",
        "  return (x**2 - 4) / (x - 2)\n",
        "\n",
        "\n",
        "# Configuração do gráfico\n",
        "pyplot.title(\"Gráfico\")\n",
        "pyplot.xlabel(\"x\")\n",
        "pyplot.ylabel(\"y\")\n",
        "\n",
        "# Plotagens ao gráfico\n",
        "pyplot.plot(x, f(x), color=\"green\")\n",
        "for var in x_left:\n",
        "  pyplot.plot(var, f(var), color=\"blue\", marker=\"o\")\n",
        "for var in x_right:\n",
        "  pyplot.plot(var, f(var), color=\"red\", marker=\"o\")\n",
        "pyplot.plot(x_limit, f(x_limit), color=\"yellow\", marker=\"o\")\n",
        "\n",
        "# Mostrar gráfico\n",
        "pyplot.show()\n"
      ],
      "metadata": {
        "id": "M665ScDsVz7l",
        "colab": {
          "base_uri": "https://localhost:8080/",
          "height": 295
        },
        "outputId": "9be14f11-a2e7-4317-9fcf-555c903061d4"
      },
      "execution_count": 65,
      "outputs": [
        {
          "output_type": "display_data",
          "data": {
            "text/plain": [
              "<Figure size 432x288 with 1 Axes>"
            ],
            "image/png": "[encoded data removed]"
          },
          "metadata": {
            "needs_background": "light"
          }
        }
      ]
    }
  ]
}