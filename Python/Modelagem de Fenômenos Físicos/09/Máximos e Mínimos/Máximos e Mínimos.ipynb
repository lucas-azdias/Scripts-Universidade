{
  "nbformat": 4,
  "nbformat_minor": 0,
  "metadata": {
    "colab": {
      "provenance": [],
      "authorship_tag": "ABX9TyM0pte5VSNyk9z/AD2d8508",
      "include_colab_link": true
    },
    "kernelspec": {
      "name": "python3",
      "display_name": "Python 3"
    },
    "language_info": {
      "name": "python"
    }
  },
  "cells": [
    {
      "cell_type": "markdown",
      "metadata": {
        "id": "view-in-github",
        "colab_type": "text"
      },
      "source": [
        "<a href=\"https://colab.research.google.com/github/FunNyLuAz/Scripts-Universidade/blob/main/Python/Modelagem%20de%20Fen%C3%B4menos%20F%C3%ADsicos/09/M%C3%A1ximos%20e%20M%C3%ADnimos/M%C3%A1ximos%20e%20M%C3%ADnimos.ipynb\" target=\"_parent\"><img src=\"https://colab.research.google.com/assets/colab-badge.svg\" alt=\"Open In Colab\"/></a>"
      ]
    },
    {
      "cell_type": "markdown",
      "source": [
        "Usando o algoritmo de gradiente decrescente"
      ],
      "metadata": {
        "id": "xWk1NaYPpA7M"
      }
    },
    {
      "cell_type": "code",
      "execution_count": 250,
      "metadata": {
        "id": "4tnv5ZzKgKFk"
      },
      "outputs": [],
      "source": [
        "def calc_mins(x_min:float, x_max:float, f):\n",
        "  from random import uniform\n",
        "\n",
        "  step = 0.001\n",
        "  sorted = [uniform(x - 1, x) for x in range(x_min - 1, x_max + 2)]\n",
        "  mins = []\n",
        "\n",
        "  x = sorted[0]\n",
        "  sorted.remove(x)\n",
        "  y = f(x)\n",
        "\n",
        "  direction = 1\n",
        "  if f(x + step) < f(x):\n",
        "    direction = -1\n",
        "  \n",
        "  while True:\n",
        "    if f(x - step * direction) < f(x) and x_min < x < x_max:\n",
        "      x = x - step * direction\n",
        "    else:\n",
        "      if x > x_max:\n",
        "        x = x_max\n",
        "      elif x < x_min:\n",
        "        x = x_min\n",
        "        \n",
        "      mins.append((x, f(x)))\n",
        "        \n",
        "      if len(sorted) > 0:\n",
        "        x = sorted[0]\n",
        "        sorted.remove(x)\n",
        "        if f(x + step) < f(x):\n",
        "          direction = -1\n",
        "        else:\n",
        "          direction = 1\n",
        "      else:\n",
        "        break\n",
        "  \n",
        "  mins_set = set()\n",
        "  for min in mins[:]:\n",
        "    m = (round(min[0], 1), round(min[1], 1))\n",
        "    if m in mins_set:\n",
        "      mins.remove(min)\n",
        "    else:\n",
        "      mins_set.add(m)\n",
        "  return mins"
      ]
    },
    {
      "cell_type": "code",
      "source": [
        "def calc_maxs(x_min:float, x_max:float, f):\n",
        "  g = lambda x: -f(x)\n",
        "  maxs = calc_mins(x_min, x_max, g)\n",
        "  return maxs"
      ],
      "metadata": {
        "id": "r1SC35Jx8E3I"
      },
      "execution_count": 251,
      "outputs": []
    },
    {
      "cell_type": "code",
      "source": [
        "if __name__ == \"__main__\":\n",
        "  x_min = 0\n",
        "  x_max = 10\n",
        "\n",
        "  f = lambda x: 2*x**4 - 32*x**3 + 96*x**2 + 100\n",
        "  print(calc_mins(x_min, x_max, f))\n",
        "  print(calc_maxs(x_min, x_max, f))\n",
        "\n",
        "  g = lambda x: x**4 - 20*x**3 + 100*x**2 + 100\n",
        "  print(calc_mins(x_min, x_max, g))\n",
        "  print(calc_maxs(x_min, x_max, g))"
      ],
      "metadata": {
        "colab": {
          "base_uri": "https://localhost:8080/"
        },
        "id": "s5jOo7N9hyoZ",
        "outputId": "ca6dc55d-5491-42f7-dd27-b5e81c0f98fc"
      },
      "execution_count": 252,
      "outputs": [
        {
          "output_type": "stream",
          "name": "stdout",
          "text": [
            "[(0, 100), (9.464559734044942, -2382.2149651638792), (10, -2300)]\n",
            "[(0, -100), (2.5356347930301313, -278.21501533022894), (10, 2300)]\n",
            "[(0, 100), (9.999801323254896, 100.00000394708877)]\n",
            "[(0, -100), (5.000225369907962, -724.9999974604202), (10, -100)]\n"
          ]
        }
      ]
    }
  ]
}