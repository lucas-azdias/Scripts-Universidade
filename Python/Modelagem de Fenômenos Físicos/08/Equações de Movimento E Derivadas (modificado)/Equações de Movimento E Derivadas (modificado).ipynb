{
  "nbformat": 4,
  "nbformat_minor": 0,
  "metadata": {
    "colab": {
      "provenance": [],
      "include_colab_link": true
    },
    "kernelspec": {
      "name": "python3",
      "display_name": "Python 3"
    },
    "language_info": {
      "name": "python"
    }
  },
  "cells": [
    {
      "cell_type": "markdown",
      "metadata": {
        "id": "view-in-github",
        "colab_type": "text"
      },
      "source": [
        "<a href=\"https://colab.research.google.com/github/FunNyLuAz/Scripts-Universidade/blob/main/Python/Modelagem%20de%20Fen%C3%B4menos%20F%C3%ADsicos/08/Equa%C3%A7%C3%B5es%20de%20Movimento%20E%20Derivadas%20(modificado)/Equa%C3%A7%C3%B5es%20de%20Movimento%20E%20Derivadas%20(modificado).ipynb\" target=\"_parent\"><img src=\"https://colab.research.google.com/assets/colab-badge.svg\" alt=\"Open In Colab\"/></a>"
      ]
    },
    {
      "cell_type": "markdown",
      "source": [
        "# Enunciado\n",
        "Um objeto se move ao longo de uma linha reta. O deslocamento do objeto em alguns instantes é dado pelos seguintes pontos:\n",
        "\n",
        "$$t = 0 s, s = 0 m$$\n",
        "$$t = 1 s, s = 2 m$$\n",
        "$$t = 2 s, s = 6 m$$\n",
        "$$t = 3 s, s = 10 m$$\n",
        "\n",
        "Determine a equação do deslocamento do objeto, depois calcule a velocidade e a aceleração em função do tempo."
      ],
      "metadata": {
        "id": "ej0KMOEmoJkb"
      }
    },
    {
      "cell_type": "markdown",
      "source": [
        "Vamos encontrar a função de deslocamento usando o polinômio de Lagrange para interpolar os pontos dados. Os pontos fornecidos são:\n",
        "\n",
        "$$P_0 = (0,0), P_1 = (1,2), P_2 = (2,6), P_3 = (3,10)$$\n",
        "\n",
        "A fórmula geral do polinômio de Lagrange é:\n",
        "\n",
        "$$L(x) = \\sum_{i=0}^n f(x_i) L_i(x)$$\n",
        "\n",
        "Onde $L_i(x)$ são os polinômios de base de Lagrange:\n",
        "\n",
        "$$L_i(x) = \\prod_{j=0, j \\neq i}^n \\frac{x - x_j}{x_i - x_j}$$\n",
        "\n",
        "Vamos calcular os polinômios de base de Lagrange para nossos pontos:\n",
        "\n",
        "$$L_0(x) = \\frac{(x-x_1)(x-x_2)(x-x_3)}{(x_0-x_1)(x_0-x_2)(x_0-x_3)} = \\frac{(x-1)(x-2)(x-3)}{(0-1)(0-2)(0-3)} = \\frac{(x-1)(x-2)(x-3)}{6}$$\n",
        "\n",
        "$$L_1(x) = \\frac{(x-x_0)(x-x_2)(x-x_3)}{(x_1-x_0)(x_1-x_2)(x_1-x_3)} = \\frac{(x-0)(x-2)(x-3)}{(1-0)(1-2)(1-3)} = \\frac{x(x-2)(x-3)}{-2}$$\n",
        "\n",
        "$$L_2(x) = \\frac{(x-x_0)(x-x_1)(x-x_3)}{(x_2-x_0)(x_2-x_1)(x_2-x_3)} = \\frac{(x-0)(x-1)(x-3)}{(2-0)(2-1)(2-3)} = \\frac{x(x-1)(x-3)}{2}$$\n",
        "\n",
        "$$L_3(x) = \\frac{(x-x_0)(x-x_1)(x-x_2)}{(x_3-x_0)(x_3-x_1)(x_3-x_2)} = \\frac{(x-0)(x-1)(x-2)}{(3-0)(3-1)(3-2)} = \\frac{x(x-1)(x-2)}{6}$$\n",
        "\n",
        "Agora vamos calcular o polinômio de Lagrange:\n",
        "\n",
        "$$L(x) = f(x_0)L_0(x) + f(x_1)L_1(x) + f(x_2)L_2(x) + f(x_3)L_3(x)$$\n",
        "\n",
        "$$L(x) = 0\\cdot L_0(x) + 2\\cdot L_1(x) + 6\\cdot L_2(x) + 10\\cdot L_3(x)$$\n",
        "\n",
        "$$L(x) = 2\\left(\\frac{x(x-2)(x-3)}{-2}\\right) + 6\\left(\\frac{x(x-1)(x-3)}{2}\\right) + 10\\left(\\frac{x(x-1)(x-2)}{6}\\right)$$\n",
        "\n",
        "Simplificando cada termo:\n",
        "\n",
        "$$L(x) = -x(x-2)(x-3) + 3x(x-1)(x-3) + \\frac{10}{6}x(x-1)(x-2)$$\n",
        "\n",
        "$$L(x) = -x(x^2-5x+6) + 3x(x^2-4x+3) + \\frac{5}{3}x(x^2-3x+2)$$\n",
        "\n",
        "Expandindo e combinando termos semelhantes:\n",
        "\n",
        "$$L(x) = -x^3+5x^2-6x + 3x^3-12x^2+12x + \\frac{5}{3}x^3-\\frac{10}{3}x^2+\\frac{10}{3}x$$\n",
        "\n",
        "Agrupando os termos e simplificando:\n",
        "\n",
        "$$L(x) = (-1 + 3 + \\frac{5}{3})x^3 + (5 - 12 -\\frac{10}{3})x^2 + (-6 + 12 + \\frac{10}{3})x$$\n",
        "\n",
        "$$L(x) = x^3 - 3x^2 + 6x$$\n",
        "\n",
        "Assim, a função de deslocamento é:\n",
        "\n",
        "$$s(t) = L(t) = t^3 - 3t^2 + 6t$$\n",
        "\n",
        "Para encontrar a velocidade, precisamos derivar a função de deslocamento em relação ao tempo:\n",
        "\n",
        "$$v(t) = \\frac{ds}{dt} = \\frac{d}{dt}(t^3 - 3t^2 + 6t)$$\n",
        "\n",
        "Aplicando a regra da soma e a regra do produto para derivadas, temos:\n",
        "\n",
        "$$v(t) = 3t^2 - 6t + 6$$\n",
        "\n",
        "Agora, para encontrar a aceleração, precisamos derivar a função de velocidade em relação ao tempo:\n",
        "\n",
        "$$a(t) = \\frac{dv}{dt} = \\frac{d}{dt}(3t^2 - 6t + 6)$$\n",
        "\n",
        "Aplicando novamente a regra da soma e a regra do produto para derivadas, obtemos:\n",
        "\n",
        "$$a(t) = 6t - 6$$\n",
        "\n",
        "Assim, as funções de velocidade e aceleração são, respectivamente:\n",
        "\n",
        "$$v(t) = 3t^2 - 6t + 6$$\n",
        "\n",
        "$$a(t) = 6t - 6$$\n",
        "\n",
        "\n",
        "\n",
        "\n",
        "\n"
      ],
      "metadata": {
        "id": "8zDFSPFWvIUD"
      }
    },
    {
      "cell_type": "markdown",
      "source": [
        "# Para você treinar\n",
        "Considere um pêndulo em um plano vertical. A posição do pêndulo em relação à altura do solo, em metros, é medida em quatro pontos diferentes no tempo, conforme mostrado na tabela abaixo:\n",
        "\n",
        "| Tempo (s) | Altura (m) |\n",
        "|-----------|------------|\n",
        "| 0         | 1.0        |\n",
        "| 0.5       | 1.5        |\n",
        "| 1.0       | 1.2        |\n",
        "| 1.5       | 1.6        |\n",
        "\n",
        "Usando o polinômio de Lagrange, encontre a função de interpolação para a altura do pêndulo em função do tempo. Em seguida, determine as funções de velocidade e aceleração do pêndulo usando as derivadas da função de interpolação encontrada. Por fim, calcule a velocidade e aceleração do pêndulo nos instantes t = 0,5 s e t = 1 s.\n"
      ],
      "metadata": {
        "id": "jred2hIuwcL5"
      }
    },
    {
      "cell_type": "markdown",
      "source": [
        "# Para você treinar mais\n",
        "Crie um gráfico para os dois problemas, onde possam ser vistas as curvas de deslocamento, velocidade e aceleração. "
      ],
      "metadata": {
        "id": "S1GKZAyDwxgt"
      }
    },
    {
      "cell_type": "markdown",
      "source": [
        "Usando Lagrange (https://www.dcode.fr/lagrange-interpolating-polynomial): \n",
        "$$S(t)=2x^3−\\frac{23}{5}x^2+\\frac{14}{5}x+1$$\n",
        "\n",
        "Derivando S(t):\n",
        "$$V(t)=\\frac{dS(t)}{dt}$$\n",
        "$$V(t)=6x^2−\\frac{46}{5}x+\\frac{14}{5}$$\n",
        "\n",
        "Derivando V(t):\n",
        "$$a(t)=\\frac{dV(t)}{dt}=\\frac{d^2S(t)}{dt^2}$$\n",
        "$$S(t)=12x−\\frac{46}{5}$$"
      ],
      "metadata": {
        "id": "k0BPJI19Xd4F"
      }
    },
    {
      "cell_type": "code",
      "execution_count": null,
      "metadata": {
        "id": "O6T_GBten9Cw",
        "colab": {
          "base_uri": "https://localhost:8080/",
          "height": 430
        },
        "outputId": "a742bc71-0bf8-4a70-ea67-d3a2d7c6f9e7"
      },
      "outputs": [
        {
          "output_type": "display_data",
          "data": {
            "text/plain": [
              "<Figure size 640x480 with 1 Axes>"
            ],
            "image/png": "[encoded data removed]"
          },
          "metadata": {}
        }
      ],
      "source": [
        "import matplotlib.pyplot as pyplot\n",
        "import numpy as np\n",
        "\n",
        "\n",
        "x = np.linspace(-10, 10, 99999)\n",
        "s = lambda x: 2*x**3-(23/5)*x**2+(14/5)*x+1\n",
        "v = lambda x: 6*x**2-(46/5)*x+(14/5)\n",
        "a = lambda x: 12*x-(46/5)\n",
        "pyplot.plot(x, s(x), color=\"red\")\n",
        "pyplot.plot(x, v(x), color=\"green\")\n",
        "pyplot.plot(x, a(x), color=\"blue\")\n",
        "\n",
        "pyplot.show()"
      ]
    }
  ]
}