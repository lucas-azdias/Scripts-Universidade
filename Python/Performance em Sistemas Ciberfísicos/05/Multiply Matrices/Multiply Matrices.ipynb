{
  "nbformat": 4,
  "nbformat_minor": 0,
  "metadata": {
    "colab": {
      "provenance": [],
      "authorship_tag": "ABX9TyP/9Sa/SLV6bJgELkYT3zcO",
      "include_colab_link": true
    },
    "kernelspec": {
      "name": "python3",
      "display_name": "Python 3"
    },
    "language_info": {
      "name": "python"
    },
    "gpuClass": "standard",
    "accelerator": "TPU"
  },
  "cells": [
    {
      "cell_type": "markdown",
      "metadata": {
        "id": "view-in-github",
        "colab_type": "text"
      },
      "source": [
        "<a href=\"https://colab.research.google.com/github/FunNyLuAz/Scripts-Universidade/blob/main/Python/Performance%20em%20Sistemas%20Ciberf%C3%ADsicos/05/Multiply%20Matrices/Multiply%20Matrices.ipynb\" target=\"_parent\"><img src=\"https://colab.research.google.com/assets/colab-badge.svg\" alt=\"Open In Colab\"/></a>"
      ]
    },
    {
      "cell_type": "markdown",
      "source": [
        "# 1. Multiplicar duas matrizes 3x3"
      ],
      "metadata": {
        "id": "21ExYxHdgavy"
      }
    },
    {
      "cell_type": "markdown",
      "source": [
        "Python\n"
      ],
      "metadata": {
        "id": "81bBbaQ6grU4"
      }
    },
    {
      "cell_type": "code",
      "execution_count": null,
      "metadata": {
        "colab": {
          "base_uri": "https://localhost:8080/"
        },
        "id": "aIvi1eZYgZDW",
        "outputId": "cad61e67-68d0-437c-f5e1-720204dcf873"
      },
      "outputs": [
        {
          "output_type": "execute_result",
          "data": {
            "text/plain": [
              "[[0, 3, 2, 8], [0, 4, 3, 12], [0, 4, 2, 10], [0, 3, 2, 8]]"
            ]
          },
          "metadata": {},
          "execution_count": 1
        }
      ],
      "source": [
        "def multiplyMatrices(matrixA, matrixB):\n",
        "  matrix = list()\n",
        "  n = len(matrixB)\n",
        "  for i in range(len(matrixA)):\n",
        "    matrix.append(list())\n",
        "    for j in range(len(matrixB[0])):\n",
        "      matrix[i].append(0)\n",
        "      for p in range(n):\n",
        "        matrix[i][j] += matrixA[i][p] * matrixB[p][j]\n",
        "  return matrix\n",
        "\n",
        "\n",
        "matrixA = [\n",
        "  [1, 2, 2],\n",
        "  [2, 3, 2],\n",
        "  [2, 2, 2],\n",
        "  [1, 2, 2]\n",
        "]\n",
        "matrixB = [\n",
        "  [0, 1, 0, 2],\n",
        "  [0, 0, 1, 2],\n",
        "  [0, 1, 0, 1]\n",
        "]\n",
        "\n",
        "multiplyMatrices(matrixA, matrixB)"
      ]
    },
    {
      "cell_type": "markdown",
      "source": [
        "Numpy"
      ],
      "metadata": {
        "id": "s49PHzsOmtMV"
      }
    },
    {
      "cell_type": "code",
      "source": [
        "import numpy\n",
        "\n",
        "\n",
        "matrixA = numpy.array([\n",
        "  [1, 2, 2],\n",
        "  [2, 3, 2],\n",
        "  [2, 2, 2],\n",
        "  [1, 2, 2]\n",
        "])\n",
        "matrixB = numpy.array([\n",
        "  [0, 1, 0, 2],\n",
        "  [0, 0, 1, 2],\n",
        "  [0, 1, 0, 1]\n",
        "])\n",
        "\n",
        "numpy.matmul(matrixA, matrixB)"
      ],
      "metadata": {
        "colab": {
          "base_uri": "https://localhost:8080/"
        },
        "id": "v_4NObJ6muyS",
        "outputId": "693bb2f4-7b42-48e4-9262-c43f38805697"
      },
      "execution_count": null,
      "outputs": [
        {
          "output_type": "execute_result",
          "data": {
            "text/plain": [
              "array([[ 0,  3,  2,  8],\n",
              "       [ 0,  4,  3, 12],\n",
              "       [ 0,  4,  2, 10],\n",
              "       [ 0,  3,  2,  8]])"
            ]
          },
          "metadata": {},
          "execution_count": 2
        }
      ]
    },
    {
      "cell_type": "markdown",
      "source": [
        "Jax"
      ],
      "metadata": {
        "id": "K_Od-GxUoDqC"
      }
    },
    {
      "cell_type": "code",
      "source": [
        "import jax.numpy as jnp\n",
        "\n",
        "\n",
        "matrixA = jnp.array([\n",
        "  [1, 2, 2],\n",
        "  [2, 3, 2],\n",
        "  [2, 2, 2],\n",
        "  [1, 2, 2]\n",
        "])\n",
        "matrixB = jnp.array([\n",
        "  [0, 1, 0, 2],\n",
        "  [0, 0, 1, 2],\n",
        "  [0, 1, 0, 1]\n",
        "])\n",
        "\n",
        "jnp.matmul(matrixA, matrixB)"
      ],
      "metadata": {
        "colab": {
          "base_uri": "https://localhost:8080/"
        },
        "id": "DmF6p4hMoG16",
        "outputId": "bdcb8480-dc3b-407c-e9d4-31fae57f2a3b"
      },
      "execution_count": null,
      "outputs": [
        {
          "output_type": "stream",
          "name": "stderr",
          "text": [
            "WARNING:jax._src.lib.xla_bridge:No GPU/TPU found, falling back to CPU. (Set TF_CPP_MIN_LOG_LEVEL=0 and rerun for more info.)\n"
          ]
        },
        {
          "output_type": "execute_result",
          "data": {
            "text/plain": [
              "DeviceArray([[ 0,  3,  2,  8],\n",
              "             [ 0,  4,  3, 12],\n",
              "             [ 0,  4,  2, 10],\n",
              "             [ 0,  3,  2,  8]], dtype=int32)"
            ]
          },
          "metadata": {},
          "execution_count": 3
        }
      ]
    },
    {
      "cell_type": "markdown",
      "source": [
        "TensorFlow"
      ],
      "metadata": {
        "id": "-3nbyEg7puMZ"
      }
    },
    {
      "cell_type": "code",
      "source": [
        "import tensorflow\n",
        "\n",
        "\n",
        "matrixA = tensorflow.constant([\n",
        "  1, 2, 2,\n",
        "  2, 3, 2,\n",
        "  2, 2, 2,\n",
        "  1, 2, 2\n",
        "], shape=(4, 3))\n",
        "matrixB = tensorflow.constant([\n",
        "  0, 1, 0, 2,\n",
        "  0, 0, 1, 2,\n",
        "  0, 1, 0, 1\n",
        "], shape=(3, 4))\n",
        "\n",
        "tensorflow.linalg.matmul(matrixA, matrixB)"
      ],
      "metadata": {
        "colab": {
          "base_uri": "https://localhost:8080/"
        },
        "id": "TGFVRBJ3pvcr",
        "outputId": "cd287b71-79dc-49b5-fafc-361b2e2f6fa7"
      },
      "execution_count": null,
      "outputs": [
        {
          "output_type": "execute_result",
          "data": {
            "text/plain": [
              "<tf.Tensor: shape=(4, 4), dtype=int32, numpy=\n",
              "array([[ 0,  3,  2,  8],\n",
              "       [ 0,  4,  3, 12],\n",
              "       [ 0,  4,  2, 10],\n",
              "       [ 0,  3,  2,  8]], dtype=int32)>"
            ]
          },
          "metadata": {},
          "execution_count": 4
        }
      ]
    },
    {
      "cell_type": "markdown",
      "source": [
        "# 2. Medir o tempo para multiplicar duas matrizes 1000x1000 completas com 1"
      ],
      "metadata": {
        "id": "ZGFPPA_wgg8P"
      }
    },
    {
      "cell_type": "markdown",
      "source": [
        "Python\n"
      ],
      "metadata": {
        "id": "14-QwQhkrUvG"
      }
    },
    {
      "cell_type": "code",
      "execution_count": null,
      "metadata": {
        "colab": {
          "base_uri": "https://localhost:8080/"
        },
        "outputId": "254ecf14-4bbf-49e5-89c6-4fd6cc732be1",
        "id": "qZLKkKEArUvH"
      },
      "outputs": [
        {
          "output_type": "stream",
          "name": "stdout",
          "text": [
            "Demorou 303116519900ns.\n"
          ]
        }
      ],
      "source": [
        "import time\n",
        "\n",
        "\n",
        "def multiplyMatrices(matrixA, matrixB):\n",
        "  matrix = list()\n",
        "  n = len(matrixB)\n",
        "  for i in range(len(matrixA)):\n",
        "    matrix.append(list())\n",
        "    for j in range(len(matrixB[0])):\n",
        "      matrix[i].append(0)\n",
        "      for p in range(n):\n",
        "        matrix[i][j] += matrixA[i][p] * matrixB[p][j]\n",
        "  return matrix\n",
        "\n",
        "\n",
        "matrixA = list()\n",
        "for i in range(1000):\n",
        "  matrixA.append(list())\n",
        "  for j in range(1000):\n",
        "    matrixA[i].append(1)\n",
        "matrixB = list()\n",
        "for i in range(1000):\n",
        "  matrixB.append(list())\n",
        "  for j in range(1000):\n",
        "    matrixB[i].append(1)\n",
        "\n",
        "intiallTime = time.time_ns()\n",
        "multiplyMatrices(matrixA, matrixB)\n",
        "endTime = time.time_ns()\n",
        "print(f\"Demorou {endTime - intiallTime}ns.\")"
      ]
    },
    {
      "cell_type": "markdown",
      "source": [
        "Numpy"
      ],
      "metadata": {
        "id": "Nc4P8-KtrUvH"
      }
    },
    {
      "cell_type": "code",
      "source": [
        "import time\n",
        "import numpy\n",
        "\n",
        "\n",
        "matrixA = numpy.full((1000, 1000), 1)\n",
        "matrixB = numpy.full((1000, 1000), 1)\n",
        "\n",
        "intiallTime = time.time_ns()\n",
        "numpy.matmul(matrixA, matrixB)\n",
        "endTime = time.time_ns()\n",
        "print(f\"Demorou {endTime - intiallTime}ns.\")"
      ],
      "metadata": {
        "colab": {
          "base_uri": "https://localhost:8080/"
        },
        "outputId": "4d2ab31b-2c7c-4f64-c336-3ce3a6c3c715",
        "id": "1MLUa08-rUvH"
      },
      "execution_count": null,
      "outputs": [
        {
          "output_type": "stream",
          "name": "stdout",
          "text": [
            "Demorou 4325107130ns.\n"
          ]
        }
      ]
    },
    {
      "cell_type": "markdown",
      "source": [
        "Jax"
      ],
      "metadata": {
        "id": "riNqRdPsrUvI"
      }
    },
    {
      "cell_type": "code",
      "source": [
        "import time\n",
        "import jax.numpy as jnp\n",
        "\n",
        "\n",
        "matrixA = jnp.full((1000, 1000), 1)\n",
        "matrixB = jnp.full((1000, 1000), 1)\n",
        "\n",
        "intiallTime = time.time_ns()\n",
        "jnp.matmul(matrixA, matrixB)\n",
        "endTime = time.time_ns()\n",
        "print(f\"Demorou {endTime - intiallTime}ns.\")"
      ],
      "metadata": {
        "colab": {
          "base_uri": "https://localhost:8080/"
        },
        "outputId": "fc0f6946-4d9f-48c8-de73-69eadf22703a",
        "id": "KCtk8JjUrUvI"
      },
      "execution_count": null,
      "outputs": [
        {
          "output_type": "stream",
          "name": "stdout",
          "text": [
            "Demorou 379719405ns.\n"
          ]
        }
      ]
    },
    {
      "cell_type": "markdown",
      "source": [
        "TensorFlow"
      ],
      "metadata": {
        "id": "urbRr9birUvI"
      }
    },
    {
      "cell_type": "code",
      "source": [
        "import time\n",
        "import tensorflow\n",
        "\n",
        "\n",
        "matrixA = tensorflow.fill((1000, 1000), 1)\n",
        "matrixB = tensorflow.fill((1000, 1000), 1)\n",
        "\n",
        "intiallTime = time.time_ns()\n",
        "tensorflow.linalg.matmul(matrixA, matrixB)\n",
        "endTime = time.time_ns()\n",
        "print(f\"Demorou {endTime - intiallTime}ns.\")"
      ],
      "metadata": {
        "colab": {
          "base_uri": "https://localhost:8080/"
        },
        "outputId": "eb9087f3-8920-417e-d9d6-127b1cf3449b",
        "id": "xldL7BUGrUvI"
      },
      "execution_count": null,
      "outputs": [
        {
          "output_type": "stream",
          "name": "stdout",
          "text": [
            "Demorou 307326099ns.\n"
          ]
        }
      ]
    }
  ]
}